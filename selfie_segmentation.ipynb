{
 "cells": [
  {
   "cell_type": "code",
   "execution_count": 9,
   "metadata": {},
   "outputs": [],
   "source": [
    "import cv2 as cv\n",
    "import numpy as np\n",
    "import mediapipe as mp"
   ]
  },
  {
   "cell_type": "code",
   "execution_count": 10,
   "metadata": {},
   "outputs": [],
   "source": [
    "mpSelfieSeg=mp.solutions.selfie_segmentation\n",
    "SelfieSeg=mpSelfieSeg.SelfieSegmentation()"
   ]
  },
  {
   "cell_type": "code",
   "execution_count": 15,
   "metadata": {},
   "outputs": [
    {
     "ename": "KeyboardInterrupt",
     "evalue": "",
     "output_type": "error",
     "traceback": [
      "\u001b[1;31m---------------------------------------------------------------------------\u001b[0m",
      "\u001b[1;31mKeyboardInterrupt\u001b[0m                         Traceback (most recent call last)",
      "Cell \u001b[1;32mIn[15], line 10\u001b[0m\n\u001b[0;32m      8\u001b[0m \u001b[39mif\u001b[39;00m ret:\n\u001b[0;32m      9\u001b[0m     frame_rgb\u001b[39m=\u001b[39mcv\u001b[39m.\u001b[39mcvtColor(frame,cv\u001b[39m.\u001b[39mCOLOR_BGR2RGB)\n\u001b[1;32m---> 10\u001b[0m     results\u001b[39m=\u001b[39mSelfieSeg\u001b[39m.\u001b[39;49mprocess(frame_rgb)\n\u001b[0;32m     11\u001b[0m     mask\u001b[39m=\u001b[39mresults\u001b[39m.\u001b[39msegmentation_mask \u001b[39m>\u001b[39m \u001b[39m0.8\u001b[39m\n\u001b[0;32m     12\u001b[0m     mask_rgb\u001b[39m=\u001b[39mnp\u001b[39m.\u001b[39mdstack((mask,mask,mask))\n",
      "File \u001b[1;32m~\\AppData\\Roaming\\Python\\Python310\\site-packages\\mediapipe\\python\\solutions\\selfie_segmentation.py:76\u001b[0m, in \u001b[0;36mSelfieSegmentation.process\u001b[1;34m(self, image)\u001b[0m\n\u001b[0;32m     61\u001b[0m \u001b[39mdef\u001b[39;00m \u001b[39mprocess\u001b[39m(\u001b[39mself\u001b[39m, image: np\u001b[39m.\u001b[39mndarray) \u001b[39m-\u001b[39m\u001b[39m>\u001b[39m NamedTuple:\n\u001b[0;32m     62\u001b[0m \u001b[39m  \u001b[39m\u001b[39m\"\"\"Processes an RGB image and returns a segmentation mask.\u001b[39;00m\n\u001b[0;32m     63\u001b[0m \n\u001b[0;32m     64\u001b[0m \u001b[39m  Args:\u001b[39;00m\n\u001b[1;32m   (...)\u001b[0m\n\u001b[0;32m     73\u001b[0m \u001b[39m    type 2d np array representing the mask.\u001b[39;00m\n\u001b[0;32m     74\u001b[0m \u001b[39m  \"\"\"\u001b[39;00m\n\u001b[1;32m---> 76\u001b[0m   \u001b[39mreturn\u001b[39;00m \u001b[39msuper\u001b[39;49m()\u001b[39m.\u001b[39;49mprocess(input_data\u001b[39m=\u001b[39;49m{\u001b[39m'\u001b[39;49m\u001b[39mimage\u001b[39;49m\u001b[39m'\u001b[39;49m: image})\n",
      "File \u001b[1;32m~\\AppData\\Roaming\\Python\\Python310\\site-packages\\mediapipe\\python\\solution_base.py:334\u001b[0m, in \u001b[0;36mSolutionBase.process\u001b[1;34m(self, input_data)\u001b[0m\n\u001b[0;32m    328\u001b[0m   \u001b[39melse\u001b[39;00m:\n\u001b[0;32m    329\u001b[0m     \u001b[39mself\u001b[39m\u001b[39m.\u001b[39m_graph\u001b[39m.\u001b[39madd_packet_to_input_stream(\n\u001b[0;32m    330\u001b[0m         stream\u001b[39m=\u001b[39mstream_name,\n\u001b[0;32m    331\u001b[0m         packet\u001b[39m=\u001b[39m\u001b[39mself\u001b[39m\u001b[39m.\u001b[39m_make_packet(input_stream_type,\n\u001b[0;32m    332\u001b[0m                                  data)\u001b[39m.\u001b[39mat(\u001b[39mself\u001b[39m\u001b[39m.\u001b[39m_simulated_timestamp))\n\u001b[1;32m--> 334\u001b[0m \u001b[39mself\u001b[39;49m\u001b[39m.\u001b[39;49m_graph\u001b[39m.\u001b[39;49mwait_until_idle()\n\u001b[0;32m    335\u001b[0m \u001b[39m# Create a NamedTuple object where the field names are mapping to the graph\u001b[39;00m\n\u001b[0;32m    336\u001b[0m \u001b[39m# output stream names.\u001b[39;00m\n\u001b[0;32m    337\u001b[0m solution_outputs \u001b[39m=\u001b[39m collections\u001b[39m.\u001b[39mnamedtuple(\n\u001b[0;32m    338\u001b[0m     \u001b[39m'\u001b[39m\u001b[39mSolutionOutputs\u001b[39m\u001b[39m'\u001b[39m, \u001b[39mself\u001b[39m\u001b[39m.\u001b[39m_output_stream_type_info\u001b[39m.\u001b[39mkeys())\n",
      "\u001b[1;31mKeyboardInterrupt\u001b[0m: "
     ]
    }
   ],
   "source": [
    "cap=cv.VideoCapture(0)\n",
    "cap.set(cv.CAP_PROP_FRAME_WIDTH,1080)\n",
    "cap.set(cv.CAP_PROP_FRAME_HEIGHT,720)\n",
    "bg_image=cv.imread('C:/Users/pushpasri/Desktop/ComputerVision/Resources/BG.jpg')\n",
    "while True:\n",
    "    ret,frame=cap.read()\n",
    "    bg_image=cv.resize(bg_image,frame.shape[:-1][::-1])\n",
    "    if ret:\n",
    "        frame_rgb=cv.cvtColor(frame,cv.COLOR_BGR2RGB)\n",
    "        results=SelfieSeg.process(frame_rgb)\n",
    "        mask=results.segmentation_mask > 0.8\n",
    "        mask_rgb=np.dstack((mask,mask,mask))\n",
    "        frame=np.where(mask_rgb,frame,bg_image)\n",
    "    cv.imshow('Out',frame)\n",
    "    k=cv.waitKey(1)\n",
    "    if k==113:\n",
    "        break\n",
    "cv.destroyAllWindows()\n"
   ]
  }
 ],
 "metadata": {
  "kernelspec": {
   "display_name": "Python 3",
   "language": "python",
   "name": "python3"
  },
  "language_info": {
   "codemirror_mode": {
    "name": "ipython",
    "version": 3
   },
   "file_extension": ".py",
   "mimetype": "text/x-python",
   "name": "python",
   "nbconvert_exporter": "python",
   "pygments_lexer": "ipython3",
   "version": "3.10.10"
  },
  "orig_nbformat": 4
 },
 "nbformat": 4,
 "nbformat_minor": 2
}
