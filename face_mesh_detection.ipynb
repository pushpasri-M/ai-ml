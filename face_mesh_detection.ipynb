{
 "cells": [
  {
   "cell_type": "code",
   "execution_count": 1,
   "metadata": {},
   "outputs": [],
   "source": [
    "import cv2 as cv\n",
    "import mediapipe as mp\n",
    "import matplotlib.pyplot as plt\n"
   ]
  },
  {
   "cell_type": "code",
   "execution_count": 14,
   "metadata": {},
   "outputs": [],
   "source": [
    "mpFaceMesh=mp.solutions.face_mesh\n",
    "face_mesh=mpFaceMesh.FaceMesh(\n",
    "    static_image_mode=True\n",
    ")\n",
    "mpDraw=mp.solutions.drawing_utils\n",
    "mpDrawStyles=mp.solutions.drawing_styles\n",
    "fm_con=mp.solutions.face_mesh_connections\n"
   ]
  },
  {
   "cell_type": "code",
   "execution_count": 25,
   "metadata": {},
   "outputs": [
    {
     "name": "stdout",
     "output_type": "stream",
     "text": [
      "Num Points: 468\n"
     ]
    },
    {
     "ename": "TypeError",
     "evalue": "draw_landmarks() got an unexpected keyword argument 'landmark_drawiing_spec'",
     "output_type": "error",
     "traceback": [
      "\u001b[1;31m---------------------------------------------------------------------------\u001b[0m",
      "\u001b[1;31mTypeError\u001b[0m                                 Traceback (most recent call last)",
      "Cell \u001b[1;32mIn[25], line 6\u001b[0m\n\u001b[0;32m      4\u001b[0m \u001b[39mfor\u001b[39;00m landmarks \u001b[39min\u001b[39;00m results\u001b[39m.\u001b[39mmulti_face_landmarks:\n\u001b[0;32m      5\u001b[0m     \u001b[39mprint\u001b[39m(\u001b[39m'\u001b[39m\u001b[39mNum Points:\u001b[39m\u001b[39m'\u001b[39m,\u001b[39mlen\u001b[39m(landmarks\u001b[39m.\u001b[39mlandmark))  \n\u001b[1;32m----> 6\u001b[0m     mpDraw\u001b[39m.\u001b[39;49mdraw_landmarks(\n\u001b[0;32m      7\u001b[0m         img_rgb,\n\u001b[0;32m      8\u001b[0m         landmarks,\n\u001b[0;32m      9\u001b[0m         fm_con\u001b[39m.\u001b[39;49mFACEMESH_TESSELATION,\n\u001b[0;32m     10\u001b[0m         landmark_drawiing_spec\u001b[39m=\u001b[39;49m\u001b[39mNone\u001b[39;49;00m,\n\u001b[0;32m     11\u001b[0m         connection_drawing_spec\u001b[39m=\u001b[39;49mmpDrawStyles\u001b[39m.\u001b[39;49mget_default_face_mesh_tesselation_style())\n\u001b[0;32m     12\u001b[0m     mpDraw\u001b[39m.\u001b[39mdraw_landmarks(\n\u001b[0;32m     13\u001b[0m         img_rgb,\n\u001b[0;32m     14\u001b[0m         landmarks,\n\u001b[1;32m   (...)\u001b[0m\n\u001b[0;32m     17\u001b[0m         connection_drawing_spec\u001b[39m=\u001b[39mmpDrawStyles\u001b[39m.\u001b[39mget_default_face_mesh_tesselation_style()\n\u001b[0;32m     18\u001b[0m     )\n\u001b[0;32m     19\u001b[0m plt\u001b[39m.\u001b[39mimshow(img_rgb)\n",
      "\u001b[1;31mTypeError\u001b[0m: draw_landmarks() got an unexpected keyword argument 'landmark_drawiing_spec'"
     ]
    }
   ],
   "source": [
    "img=cv.imread('C:/Users/pushpasri/Desktop/ComputerVision/Resources/Photos/lady.jpg')\n",
    "img_rgb=cv.cvtColor(img,cv.COLOR_BGR2RGB)\n",
    "results=face_mesh.process(img_rgb)\n",
    "for landmarks in results.multi_face_landmarks:\n",
    "    print('Num Points:',len(landmarks.landmark))  \n",
    "    mpDraw.draw_landmarks(\n",
    "        img_rgb,\n",
    "        landmarks,\n",
    "        fm_con.FACEMESH_TESSELATION,\n",
    "        landmark_drawiing_spec=None,\n",
    "        connection_drawing_spec=mpDrawStyles.get_default_face_mesh_tesselation_style())\n",
    "    mpDraw.draw_landmarks(\n",
    "        img_rgb,\n",
    "        landmarks,\n",
    "        fm_con.FACEMESH_CONTOURS,\n",
    "        landmark_drawiing_spec=None,\n",
    "        connection_drawing_spec=mpDrawStyles.get_default_face_mesh_tesselation_style()\n",
    "    )\n",
    "plt.imshow(img_rgb)"
   ]
  },
  {
   "cell_type": "code",
   "execution_count": 19,
   "metadata": {},
   "outputs": [
    {
     "name": "stdout",
     "output_type": "stream",
     "text": [
      "frozenset({(270, 409), (176, 149), (37, 0), (84, 17), (318, 324), (293, 334), (386, 385), (7, 163), (33, 246), (17, 314), (374, 380), (251, 389), (390, 373), (267, 269), (295, 285), (389, 356), (173, 133), (33, 7), (377, 152), (158, 157), (405, 321), (54, 103), (263, 466), (324, 308), (67, 109), (409, 291), (157, 173), (454, 323), (388, 387), (78, 191), (148, 176), (311, 310), (39, 37), (249, 390), (144, 145), (402, 318), (80, 81), (310, 415), (153, 154), (384, 398), (397, 365), (234, 127), (103, 67), (282, 295), (338, 297), (378, 400), (127, 162), (321, 375), (375, 291), (317, 402), (81, 82), (154, 155), (91, 181), (334, 296), (297, 332), (269, 270), (150, 136), (109, 10), (356, 454), (58, 132), (312, 311), (152, 148), (415, 308), (161, 160), (296, 336), (65, 55), (61, 146), (78, 95), (380, 381), (398, 362), (361, 288), (246, 161), (162, 21), (0, 267), (82, 13), (132, 93), (314, 405), (10, 338), (178, 87), (387, 386), (381, 382), (70, 63), (61, 185), (14, 317), (105, 66), (300, 293), (382, 362), (88, 178), (185, 40), (46, 53), (284, 251), (400, 377), (136, 172), (323, 361), (13, 312), (21, 54), (172, 58), (373, 374), (163, 144), (276, 283), (53, 52), (365, 379), (379, 378), (146, 91), (263, 249), (283, 282), (87, 14), (145, 153), (155, 133), (93, 234), (66, 107), (95, 88), (159, 158), (52, 65), (332, 284), (40, 39), (191, 80), (63, 105), (181, 84), (466, 388), (149, 150), (288, 397), (160, 159), (385, 384)})\n",
      "frozenset({(374, 380), (390, 373), (249, 390), (385, 384), (373, 374), (263, 466), (387, 386), (381, 382), (384, 398), (466, 388), (386, 385), (388, 387), (263, 249), (380, 381), (398, 362), (382, 362)})\n",
      "frozenset({(154, 155), (33, 7), (246, 161), (159, 158), (144, 145), (173, 133), (158, 157), (163, 144), (153, 154), (7, 163), (161, 160), (157, 173), (33, 246), (160, 159), (145, 153), (155, 133)})\n"
     ]
    }
   ],
   "source": [
    "print(fm_con.FACEMESH_CONTOURS)\n",
    "print(fm_con.FACEMESH_LEFT_EYE)\n",
    "print(fm_con.FACEMESH_RIGHT_EYE)"
   ]
  },
  {
   "cell_type": "code",
   "execution_count": null,
   "metadata": {},
   "outputs": [],
   "source": [
    "import numpy as np\n",
    "def euclidean_dist(p1,p2):\n",
    "    re"
   ]
  }
 ],
 "metadata": {
  "kernelspec": {
   "display_name": "Python 3",
   "language": "python",
   "name": "python3"
  },
  "language_info": {
   "codemirror_mode": {
    "name": "ipython",
    "version": 3
   },
   "file_extension": ".py",
   "mimetype": "text/x-python",
   "name": "python",
   "nbconvert_exporter": "python",
   "pygments_lexer": "ipython3",
   "version": "3.10.10"
  },
  "orig_nbformat": 4
 },
 "nbformat": 4,
 "nbformat_minor": 2
}
