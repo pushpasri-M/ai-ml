{
 "cells": [
  {
   "cell_type": "code",
   "execution_count": 13,
   "metadata": {},
   "outputs": [
    {
     "ename": "ModuleNotFoundError",
     "evalue": "No module named 'mtcnn'",
     "output_type": "error",
     "traceback": [
      "\u001b[1;31m---------------------------------------------------------------------------\u001b[0m",
      "\u001b[1;31mModuleNotFoundError\u001b[0m                       Traceback (most recent call last)",
      "Cell \u001b[1;32mIn[13], line 3\u001b[0m\n\u001b[0;32m      1\u001b[0m \u001b[39mimport\u001b[39;00m \u001b[39mcv2\u001b[39;00m \u001b[39mas\u001b[39;00m \u001b[39mcv\u001b[39;00m\n\u001b[0;32m      2\u001b[0m \u001b[39mimport\u001b[39;00m \u001b[39mnumpy\u001b[39;00m \u001b[39mas\u001b[39;00m \u001b[39mnp\u001b[39;00m\n\u001b[1;32m----> 3\u001b[0m \u001b[39mimport\u001b[39;00m \u001b[39mmtcnn\u001b[39;00m\n\u001b[0;32m      4\u001b[0m \u001b[39mimport\u001b[39;00m \u001b[39mos\u001b[39;00m\n\u001b[0;32m      5\u001b[0m \u001b[39mimport\u001b[39;00m \u001b[39mglob\u001b[39;00m\n",
      "\u001b[1;31mModuleNotFoundError\u001b[0m: No module named 'mtcnn'"
     ]
    }
   ],
   "source": [
    "import cv2 as cv\n",
    "import numpy as np\n",
    "import mtcnn\n",
    "import os\n",
    "import glob\n",
    "import tqdm \n"
   ]
  },
  {
   "cell_type": "code",
   "execution_count": 11,
   "metadata": {},
   "outputs": [
    {
     "ename": "NameError",
     "evalue": "name 'os' is not defined",
     "output_type": "error",
     "traceback": [
      "\u001b[1;31m---------------------------------------------------------------------------\u001b[0m",
      "\u001b[1;31mNameError\u001b[0m                                 Traceback (most recent call last)",
      "Cell \u001b[1;32mIn[11], line 11\u001b[0m\n\u001b[0;32m      4\u001b[0m people\u001b[39m=\u001b[39m[\n\u001b[0;32m      5\u001b[0m     \u001b[39m'\u001b[39m\u001b[39mBen Afflek\u001b[39m\u001b[39m'\u001b[39m,\n\u001b[0;32m      6\u001b[0m     \u001b[39m'\u001b[39m\u001b[39mElton John\u001b[39m\u001b[39m'\u001b[39m,\n\u001b[0;32m      7\u001b[0m     \u001b[39m'\u001b[39m\u001b[39mJerry seinfield\u001b[39m\u001b[39m'\u001b[39m,\n\u001b[0;32m      8\u001b[0m     \u001b[39m'\u001b[39m\u001b[39mMadonna\u001b[39m\u001b[39m'\u001b[39m,\n\u001b[0;32m      9\u001b[0m     \u001b[39m'\u001b[39m\u001b[39mMindy Kaling\u001b[39m\u001b[39m'\u001b[39m]\n\u001b[0;32m     10\u001b[0m \u001b[39mfor\u001b[39;00m p \u001b[39min\u001b[39;00m people:\n\u001b[1;32m---> 11\u001b[0m     dir_\u001b[39m=\u001b[39mos\u001b[39m.\u001b[39mpath\u001b[39m.\u001b[39mjoin(\u001b[39m'\u001b[39m\u001b[39mC:/Users/pushpasri/Desktop/ComputerVision/Resources/Faces/train\u001b[39m\u001b[39m'\u001b[39m,p)\n\u001b[0;32m     12\u001b[0m     images\u001b[39m=\u001b[39mglob\u001b[39m.\u001b[39mglob(os\u001b[39m.\u001b[39mpath\u001b[39m.\u001b[39mjoin(dir_,\u001b[39m'\u001b[39m\u001b[39m*.jpg\u001b[39m\u001b[39m'\u001b[39m))\n\u001b[0;32m     13\u001b[0m     \u001b[39mfor\u001b[39;00m img_path \u001b[39min\u001b[39;00m tqdm\u001b[39m.\u001b[39mtqdm(images,desc\u001b[39m=\u001b[39m\u001b[39m'\u001b[39m\u001b[39m[INFO]Loading images from::\u001b[39m\u001b[39m{0}\u001b[39;00m\u001b[39m'\u001b[39m\u001b[39m.\u001b[39mformat(dir_)):\n",
      "\u001b[1;31mNameError\u001b[0m: name 'os' is not defined"
     ]
    }
   ],
   "source": [
    "###face dtatset features extraction###\n",
    "features=[]\n",
    "labels=[]\n",
    "people=[\n",
    "    'Ben Afflek',\n",
    "    'Elton John',\n",
    "    'Jerry seinfield',\n",
    "    'Madonna',\n",
    "    'Mindy Kaling']\n",
    "for p in people:\n",
    "    dir_=os.path.join('C:/Users/pushpasri/Desktop/ComputerVision/Resources/Faces/train',p)\n",
    "    images=glob.glob(os.path.join(dir_,'*.jpg'))\n",
    "    for img_path in tqdm.tqdm(images,desc='[INFO]Loading images from::{0}'.format(dir_)):\n",
    "        img=cv.imread(img_path)\n",
    "        img_rgb=cv.cvtColor(img,cv.COLOR_BGR2RGB)\n",
    "        faces=mtcnn_model.detect_faces(img_rgb)\n",
    "        try:\n",
    "            x,y,w,h=face_box_faces[0]['box']\n",
    "            face=img[y:y+h,x:x+w]\n",
    "            features.append(face)\n",
    "            labels.append(*people.index(p))\n",
    "        except:\n",
    "            pass\n",
    "features=np.array(features,dtype=object)\n",
    "labels=np.array(labels)\n",
    "print('[INFO]Features Shape::{0}'.format(features.shape))\n",
    "print('[INFO]Labels::{0}'.format(np.unique(labels)))                   "
   ]
  },
  {
   "cell_type": "code",
   "execution_count": null,
   "metadata": {},
   "outputs": [],
   "source": [
    "save_dir=\"Model/face_recognition\"\n",
    "os.makedirs(save_dir,exit_ok=True)\n",
    "print('[INFO] Treating Model')\n",
    "face_recognizer=cv.face.LBPFaceRecognizer_cerate()\n",
    "face_recognizer.train(features,lables)\n",
    "print('[INFO]Saving Trainedd Model')\n",
    "face_recognizer.save(os.path.join(save_dir,'model.ynl'))\n",
    "np.save(os.path.join(save_dir,'labels.npy'))\n"
   ]
  }
 ],
 "metadata": {
  "kernelspec": {
   "display_name": "Python 3",
   "language": "python",
   "name": "python3"
  },
  "language_info": {
   "codemirror_mode": {
    "name": "ipython",
    "version": 3
   },
   "file_extension": ".py",
   "mimetype": "text/x-python",
   "name": "python",
   "nbconvert_exporter": "python",
   "pygments_lexer": "ipython3",
   "version": "3.10.10"
  },
  "orig_nbformat": 4
 },
 "nbformat": 4,
 "nbformat_minor": 2
}
